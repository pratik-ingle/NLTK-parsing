{
 "cells": [
  {
   "cell_type": "code",
   "execution_count": 3,
   "metadata": {
    "collapsed": false
   },
   "outputs": [],
   "source": [
    "import nltk, re, pprint\n",
    "import sys,os\n",
    "import numpy as np\n",
    "\n",
    "#nltk.download()\n",
    "#sudo apt-get install python3-pil.imagetk #installation for tree visualization"
   ]
  },
  {
   "cell_type": "code",
   "execution_count": 24,
   "metadata": {
    "collapsed": false
   },
   "outputs": [
    {
     "name": "stdout",
     "output_type": "stream",
     "text": [
      "S -> NP VP\n",
      "NP -> Det Nom\n",
      "NP -> PropN\n",
      "NP -> Adj\n",
      "Nom -> Adj Nom\n",
      "Nom -> N\n",
      "VP -> V Adj\n",
      "VP -> V NP\n",
      "VP -> V S\n",
      "VP -> V NP PP\n",
      "PP -> P NP\n",
      "PropN -> 'Buster'\n",
      "PropN -> 'Chatterer'\n",
      "PropN -> 'Joe'\n",
      "Det -> 'A'\n",
      "N -> 'villager'\n",
      "N -> 'city'\n",
      "N -> 'property'\n",
      "N -> 'wife.'\n",
      "Adj -> 'along'\n",
      "V -> 'went'\n",
      "V -> 'sell'\n",
      "P -> 'his'\n",
      "P -> 'with'\n",
      "P -> 'to'\n"
     ]
    }
   ],
   "source": [
    "#Recursion\n",
    "\n",
    "grammar = nltk.CFG.fromstring(\"\"\"\n",
    "  S  -> NP VP\n",
    "  NP -> Det Nom | PropN | Adj\n",
    "  Nom -> Adj Nom | N\n",
    "  VP -> V Adj | V NP | V S | V NP PP\n",
    "  PP -> P NP\n",
    "  PropN -> 'Buster' | 'Chatterer' | 'Joe'\n",
    "  Det -> 'A'\n",
    "  N -> 'villager' | 'city' | 'property' | 'wife.'\n",
    "  Adj  -> 'along' \n",
    "  V ->  'went' | 'sell' \n",
    "  P -> 'his' | 'with' | 'to' \n",
    "  \"\"\")\n",
    "\n",
    "# sent = \"the angry bear chased the frightened little squirrel\"\n",
    "sent = \"A villager went to city to sell his property along with his wife.\"\n",
    "tokens = sent.split()\n",
    "\n",
    "#Parsing algorithm\n",
    "\n",
    "# parser = nltk.RecursiveDescentParser(grammar)\n",
    "# parser = nltk.ChartParser(grammar)\n",
    "# parser = nltk.ChartParser(grammar, trace=2)\n",
    "# parser = nltk.ShiftReduceParser(grammar)\n",
    "parser = nltk.parse.BottomUpLeftCornerChartParser(grammar)\n",
    "\n",
    "for tree in parser.parse(tokens):\n",
    "    print(tree)\n",
    "    tree.draw()\n",
    "\n",
    "\n",
    "#If the command print(tree) produces no output, this is probably \n",
    "#because your sentence sent is not admitted by your grammar.\n",
    "\n",
    "\n",
    "#To investigate call the parser with tracing set to be on...\n",
    "#You can also check what productions are currently in the grammar \n",
    "#with the command\n",
    "\n",
    "\n",
    "for p in grammar.productions():\n",
    "     print(p)"
   ]
  },
  {
   "cell_type": "code",
   "execution_count": 21,
   "metadata": {
    "collapsed": false
   },
   "outputs": [],
   "source": [
    "grammar1 = nltk.CFG.fromstring(\"\"\" S -> NP VP\n",
    "VP -> V NP | V NP PP | V Adj | V NP | V S | V NP PP\n",
    "PP -> P NP\n",
    "V -> \"saw\" | \"ate\" | \"walked\" | \"went\" | \"sell\"\n",
    "NP -> \"John\" | \"Mary\" | \"Bob\" | Det N | Det N PP | Det Nom | PropN\n",
    "Nom -> Adj Nom | N\n",
    "Adj  -> \"along\"\n",
    "Det -> \"a\" | \"A\" | \"the\" | \"my\"\n",
    "N -> \"man\" | \"dog\" | \"cat\" | \"telescope\" | \"park\" |\"villager\" | \"city\" | \"property\" | \"wife.\"\n",
    "P -> \"in\" | \"on\" | \"by\" | \"with\" |\"his\" | \"to\" \n",
    "\"\"\")\n",
    "sent = \"A villager went to city to sell his property along with his wife.\"\n",
    "rd_parser = nltk.RecursiveDescentParser(grammar1)\n",
    "for tree in rd_parser.parse(sent.split()):\n",
    "    print(tree)\n",
    "       \n",
    "tree.draw()"
   ]
  },
  {
   "cell_type": "code",
   "execution_count": 27,
   "metadata": {
    "collapsed": false
   },
   "outputs": [
    {
     "name": "stdout",
     "output_type": "stream",
     "text": [
      "(S (NP Mary) (VP (V saw) (NP Bob)))\n"
     ]
    }
   ],
   "source": [
    "grammar1 = nltk.CFG.fromstring(\"\"\" S -> NP VP\n",
    "VP -> V NP | V NP PP\n",
    "PP -> P NP\n",
    "V -> \"saw\" | \"ate\" | \"walked\"\n",
    "NP -> \"John\" | \"Mary\" | \"Bob\" | Det N | Det N PP \n",
    "Det -> \"a\" | \"an\" | \"the\" | \"my\"\n",
    "N -> \"man\" | \"dog\" | \"cat\" | \"telescope\" | \"park\" \n",
    "P -> \"in\" | \"on\" | \"by\" | \"with\"\n",
    "\"\"\")\n",
    "sent = \"Mary saw Bob\"\n",
    "rd_parser = nltk.RecursiveDescentParser(grammar1)\n",
    "for tree in rd_parser.parse(sent.split()):\n",
    "    print(tree)\n",
    "    \n",
    "tree.draw()"
   ]
  },
  {
   "cell_type": "code",
   "execution_count": null,
   "metadata": {
    "collapsed": false
   },
   "outputs": [
    {
     "name": "stdout",
     "output_type": "stream",
     "text": [
      "(S\n",
      "  (NP I)\n",
      "  (VP\n",
      "    (VP (V shot) (NP (Det an) (N elephant)))\n",
      "    (PP (P in) (NP (Det my) (N pajamas)))))\n",
      "(S\n",
      "  (NP I)\n",
      "  (VP\n",
      "    (V shot)\n",
      "    (NP (Det an) (N elephant) (PP (P in) (NP (Det my) (N pajamas))))))\n"
     ]
    }
   ],
   "source": [
    "groucho_grammar = nltk.CFG.fromstring(\"\"\"  S -> NP VP\n",
    " PP -> P NP\n",
    " NP -> Det N | Det N PP | 'I'\n",
    " VP -> V NP | VP PP\n",
    " Det -> 'an' | 'my'\n",
    " N -> 'elephant' | 'pajamas' \n",
    " V -> 'shot'\n",
    " P -> 'in'\n",
    " \"\"\")\n",
    "  \n",
    "sent = ['I', 'shot', 'an', 'elephant', 'in', 'my', 'pajamas']\n",
    "parser = nltk.ChartParser(groucho_grammar)\n",
    "trees = parser.parse(sent)\n",
    "for tree in trees:\n",
    "    print(tree)\n",
    "    \n",
    "tree.draw()"
   ]
  },
  {
   "cell_type": "code",
   "execution_count": 35,
   "metadata": {
    "collapsed": false
   },
   "outputs": [],
   "source": [
    "groucho_grammar = nltk.CFG.fromstring(\"\"\"\n",
    "    S -> NP VP\n",
    "    PP -> P NP | TO\n",
    "    NP -> Det N | Det N PP | 'I' \n",
    "    VP -> V NP | VP PP | Adj\n",
    "    Det -> 'A'\n",
    "    N -> 'villager' | 'city' | 'property' | 'wife.'\n",
    "    V -> 'went' | 'sell' | 'city'\n",
    "    P -> 'his' | 'with' | 'to' \n",
    "    Adj  -> 'along' \n",
    "    \"\"\")\n",
    "\n",
    "sent = \"A villager went to city to sell his property along with his wife.\"\n",
    "tokens = sent.split()\n",
    "parser = nltk.ChartParser(groucho_grammar)\n",
    "#parser = nltk.parse.BottomUpChartParser(grammar)\n",
    "#parser = nltk.parse.BottomUpChartParser(grammar)\n",
    "for tree in parser.parse(tokens):\n",
    "    print(tree)\n",
    "    tree.draw()"
   ]
  },
  {
   "cell_type": "code",
   "execution_count": 25,
   "metadata": {
    "collapsed": false
   },
   "outputs": [
    {
     "name": "stdout",
     "output_type": "stream",
     "text": [
      "S -> NP VP\n",
      "NP -> Det Nom\n",
      "NP -> PropN\n",
      "NP -> Adj\n",
      "NP -> Nom\n",
      "NP -> Det Adj Nom\n",
      "Nom -> Adj Nom\n",
      "Nom -> N\n",
      "VP -> V Adj\n",
      "VP -> V NP\n",
      "VP -> V S\n",
      "VP -> V NP PP\n",
      "VP -> Adv V PP\n",
      "VP -> V Adv PP\n",
      "VP -> V PP\n",
      "VP -> V PP Adv\n",
      "PP -> P NP\n",
      "PropN -> 'Buster'\n",
      "PropN -> 'Chatterer'\n",
      "PropN -> 'Joe'\n",
      "Det -> 'A'\n",
      "N -> 'villager'\n",
      "N -> 'city'\n",
      "N -> 'property'\n",
      "N -> 'wife.'\n",
      "Adv -> 'along'\n",
      "V -> 'went'\n",
      "V -> 'sell'\n",
      "P -> 'his'\n",
      "P -> 'with'\n",
      "P -> 'to'\n"
     ]
    }
   ],
   "source": [
    "#Recursion\n",
    "\n",
    "grammar = nltk.CFG.fromstring(\"\"\"\n",
    "  S  -> NP VP\n",
    "  NP -> Det Nom | PropN | Adj | Nom | Det Adj Nom\n",
    "  Nom -> Adj Nom | N\n",
    "  VP -> V Adj | V NP | V S | V NP PP | Adv V  PP | V Adv PP | V PP | V PP Adv \n",
    "  PP -> P NP\n",
    "  Det -> 'A'\n",
    "  N -> 'villager' | 'city' | 'property' | 'wife.'\n",
    "  Adv  -> 'along' \n",
    "  V ->  'went' | 'sell' \n",
    "  P -> 'his' | 'with' | 'to' \n",
    "  \"\"\")\n",
    "\n",
    "# sent = \"the angry bear chased the frightened little squirrel\"\n",
    "sent = \"A villager went to city to sell his property along with his wife.\"\n",
    "tokens = sent.split()\n",
    "\n",
    "#Parsing algorithm\n",
    "\n",
    "# parser = nltk.RecursiveDescentParser(grammar)\n",
    "# parser = nltk.ChartParser(grammar)\n",
    "# parser = nltk.ChartParser(grammar, trace=2)\n",
    "# parser = nltk.ShiftReduceParser(grammar)\n",
    "parser = nltk.parse.BottomUpLeftCornerChartParser(grammar)\n",
    "\n",
    "for tree in parser.parse(tokens):\n",
    "    print(tree)\n",
    "    tree.draw()\n",
    "\n",
    "\n",
    "#If the command print(tree) produces no output, this is probably \n",
    "#because your sentence sent is not admitted by your grammar.\n",
    "\n",
    "\n",
    "#To investigate call the parser with tracing set to be on...\n",
    "#You can also check what productions are currently in the grammar \n",
    "#with the command\n",
    "\n",
    "\n",
    "for p in grammar.productions():\n",
    "     print(p)"
   ]
  },
  {
   "cell_type": "code",
   "execution_count": null,
   "metadata": {
    "collapsed": true
   },
   "outputs": [],
   "source": []
  }
 ],
 "metadata": {
  "anaconda-cloud": {},
  "kernelspec": {
   "display_name": "Python [default]",
   "language": "python",
   "name": "python3"
  },
  "language_info": {
   "codemirror_mode": {
    "name": "ipython",
    "version": 3
   },
   "file_extension": ".py",
   "mimetype": "text/x-python",
   "name": "python",
   "nbconvert_exporter": "python",
   "pygments_lexer": "ipython3",
   "version": "3.5.2"
  }
 },
 "nbformat": 4,
 "nbformat_minor": 1
}
