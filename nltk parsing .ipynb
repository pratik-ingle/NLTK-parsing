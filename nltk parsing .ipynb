{
 "cells": [
  {
   "cell_type": "code",
   "execution_count": 1,
   "metadata": {
    "collapsed": false
   },
   "outputs": [],
   "source": [
    "import nltk, re, pprint\n",
    "import sys,os\n",
    "import numpy as np\n",
    "\n",
    "#nltk.download()\n",
    "#sudo apt-get install python3-pil.imagetk #installation for tree visualization"
   ]
  },
  {
   "cell_type": "code",
   "execution_count": 5,
   "metadata": {
    "collapsed": false
   },
   "outputs": [
    {
     "name": "stdout",
     "output_type": "stream",
     "text": [
      "(S\n",
      "  (NP\n",
      "    (Det A)\n",
      "    (N villager)\n",
      "    (VP (VP (V went) (PP (P to) (NP (N city)))) (PP (P to))))\n",
      "  (VP\n",
      "    (VP\n",
      "      (VP (V sell) (PP (P his) (NP (N property))) (Adv along))\n",
      "      (PP (P with)))\n",
      "    (PP (P his) (NP (N wife.)))))\n",
      "(S\n",
      "  (NP\n",
      "    (Det A)\n",
      "    (N villager)\n",
      "    (VP (V went) (PP (PP (P to)) (NP (N city)) (PP (P to)))))\n",
      "  (VP\n",
      "    (VP\n",
      "      (VP (V sell) (PP (P his) (NP (N property))) (Adv along))\n",
      "      (PP (P with)))\n",
      "    (PP (P his) (NP (N wife.)))))\n",
      "(S\n",
      "  (NP\n",
      "    (Det A)\n",
      "    (N villager)\n",
      "    (VP (V went) (PP (P to) (NP (N city) (PP (P to))))))\n",
      "  (VP\n",
      "    (VP\n",
      "      (VP (V sell) (PP (P his) (NP (N property))) (Adv along))\n",
      "      (PP (P with)))\n",
      "    (PP (P his) (NP (N wife.)))))\n"
     ]
    }
   ],
   "source": [
    "#Recursion\n",
    "\n",
    "grammar = nltk.CFG.fromstring(\"\"\"\n",
    "  S  -> NP VP\n",
    "  NP -> Det N | N | Det N VP | Det PP | N PP\n",
    "  VP -> V Adv | V NP | V NP Adv | V NP PP | Adv PP Adv | V Adv PP | V PP | V PP Adv | NP PP | V NP Adv PP |V NP Adv PP Adv | NP Adv PP | V NP PP Adv| V Adv PP Adv | NP Adv | NP ADV PP | NP Adv PP Adv|  V Adv PP | Adv PP | Adv PP Adv | PP NP | VP PP  \n",
    "  PP -> P NP | PP NP PP | P\n",
    "  Det -> 'A'\n",
    "  N -> 'villager' | 'city' | 'property' | 'wife.'\n",
    "  Adv  -> 'along' \n",
    "  V ->  'went' | 'sell' \n",
    "  P -> 'his' | 'with' | 'to' \n",
    "  \"\"\")\n",
    "\n",
    "sent = \"A villager went to city to sell his property along with his wife.\"\n",
    "tokens = sent.split()\n",
    "\n",
    "#Parsing algorithm\n",
    "parser = nltk.parse.BottomUpLeftCornerChartParser(grammar)\n",
    "#parser = nltk.parse.BottomUpChartParser(grammar)\n",
    "#parser = nltk.parse.LeftCornerChartParser(grammar)\n",
    "trees = []\n",
    "for tree in parser.parse(tokens):\n",
    "    print(tree)\n",
    "    trees.append(tree)\n"
   ]
  },
  {
   "cell_type": "code",
   "execution_count": 8,
   "metadata": {
    "collapsed": false
   },
   "outputs": [
    {
     "name": "stdout",
     "output_type": "stream",
     "text": [
      "4\n"
     ]
    }
   ],
   "source": [
    "#To compare multiple trees in a single window, we can use the \n",
    "#draw_trees() method\n",
    "\n",
    "from nltk.draw.tree import draw_trees\n",
    "x  = len(trees)\n",
    "print(x)\n",
    "draw_trees(trees[0], trees[1],trees[2])"
   ]
  },
  {
   "cell_type": "code",
   "execution_count": null,
   "metadata": {
    "collapsed": true
   },
   "outputs": [],
   "source": []
  },
  {
   "cell_type": "code",
   "execution_count": 9,
   "metadata": {
    "collapsed": true
   },
   "outputs": [],
   "source": []
  },
  {
   "cell_type": "code",
   "execution_count": null,
   "metadata": {
    "collapsed": true
   },
   "outputs": [],
   "source": [
    "\n",
    "S  -> NP VP\n",
    "  NP -> Det N | Adj | N | Det Adj N | Det N VP | N AdjP | Det Adj NP | N Adj | Det Adj NP\n",
    "  VP -> V Adj | V NP | V S | V NP PP | Adv V  PP | V Adv PP | V PP | V PP Adv | PP NP | VP PP  |VP Adjp|V NP PP | P VP PP | P NP | V Adv PP    \n",
    "  PP -> P NP | PP NP PP | P\n",
    "  Det -> 'A'\n",
    "  N -> 'villager' | 'city' | 'property' | 'wife.'\n",
    "  Adv  -> 'along' \n",
    "  V ->  'went' | 'sell' \n",
    "  P -> 'his' | 'with' | 'to' \n"
   ]
  },
  {
   "cell_type": "code",
   "execution_count": 10,
   "metadata": {
    "collapsed": false
   },
   "outputs": [
    {
     "name": "stdout",
     "output_type": "stream",
     "text": [
      "(S\n",
      "  (NP (Det A) (N villager) (VP (V went) (PP (P to) (NP (N city)))))\n",
      "  (VP\n",
      "    (P to)\n",
      "    (VP\n",
      "      (VP (V sell) (PP (P his) (NP (N property))) (Adv along))\n",
      "      (PP (P with)))\n",
      "    (PP (P his) (NP (N wife.)))))\n",
      "(S\n",
      "  (NP\n",
      "    (Det A)\n",
      "    (N villager)\n",
      "    (VP (VP (V went) (PP (P to) (NP (N city)))) (PP (P to))))\n",
      "  (VP\n",
      "    (VP\n",
      "      (VP (V sell) (PP (P his) (NP (N property))) (Adv along))\n",
      "      (PP (P with)))\n",
      "    (PP (P his) (NP (N wife.)))))\n",
      "(S\n",
      "  (NP\n",
      "    (Det A)\n",
      "    (N villager)\n",
      "    (VP (V went) (PP (PP (P to)) (NP (N city)) (PP (P to)))))\n",
      "  (VP\n",
      "    (VP\n",
      "      (VP (V sell) (PP (P his) (NP (N property))) (Adv along))\n",
      "      (PP (P with)))\n",
      "    (PP (P his) (NP (N wife.)))))\n",
      "(S\n",
      "  (NP (Det A) (N villager) (VP (V went) (PP (P to) (NP (N city)))))\n",
      "  (VP\n",
      "    (VP\n",
      "      (P to)\n",
      "      (VP (V sell) (PP (P his) (NP (N property))) (Adv along))\n",
      "      (PP (P with)))\n",
      "    (PP (P his) (NP (N wife.)))))\n"
     ]
    }
   ],
   "source": [
    "#Recursion\n",
    "\n",
    "grammar = nltk.CFG.fromstring(\"\"\"\n",
    "  S  -> NP VP\n",
    "  NP -> Det N | N | Det N VP\n",
    "  VP -> V Adj | V NP | V S | V NP PP | Adv V  PP | V Adv PP | V PP | V PP Adv | PP NP | VP PP |V NP PP | P VP PP | P NP | V Adv PP    \n",
    "  PP -> P NP | PP NP PP | P\n",
    "  Det -> 'A'\n",
    "  N -> 'villager' | 'city' | 'property' | 'wife.'\n",
    "  Adv  -> 'along' \n",
    "  V ->  'went' | 'sell' \n",
    "  P -> 'his' | 'with' | 'to' \n",
    "  \"\"\")\n",
    "\n",
    "sent = \"A villager went to city to sell his property along with his wife.\"\n",
    "tokens = sent.split()\n",
    "\n",
    "#Parsing algorithm\n",
    "\n",
    "# parser = nltk.RecursiveDescentParser(grammar)\n",
    "# parser = nltk.ChartParser(grammar)\n",
    "# parser = nltk.ChartParser(grammar, trace=2)\n",
    "# parser = nltk.ShiftReduceParser(grammar)\n",
    "parser = nltk.parse.BottomUpLeftCornerChartParser(grammar)\n",
    "# parser = nltk.parse.BottomUpChartParser(grammar)\n",
    "#parser = nltk.parse.LeftCornerChartParser(grammar)\n",
    "\n",
    "trees = []\n",
    "for tree in parser.parse(tokens):\n",
    "    print(tree)\n",
    "    trees.append(tree)\n",
    "\n"
   ]
  },
  {
   "cell_type": "code",
   "execution_count": null,
   "metadata": {
    "collapsed": true
   },
   "outputs": [],
   "source": [
    "#To compare multiple trees in a single window, we can use the \n",
    "#draw_trees() method\n",
    "\n",
    "from nltk.draw.tree import draw_trees\n",
    "x  = len(trees)\n",
    "print(x)\n",
    "draw_trees(trees[0], trees[1],trees[2])"
   ]
  },
  {
   "cell_type": "code",
   "execution_count": 2,
   "metadata": {
    "collapsed": true
   },
   "outputs": [],
   "source": [
    "sent = \"A villager went to city to sell his property along with his wife.\"\n",
    "tokens = sent.split()"
   ]
  },
  {
   "cell_type": "code",
   "execution_count": 3,
   "metadata": {
    "collapsed": true
   },
   "outputs": [],
   "source": [
    "grammar = nltk.CFG.fromstring(\"\"\"\n",
    "  S  -> NP VP\n",
    "  NP -> Det N | N | Det N VP\n",
    "  VP -> V Adj | V NP | V S | V NP PP | Adv V  PP | V Adv PP | V PP | V PP Adv | PP NP | VP PP |V NP PP | P VP PP | P NP | V Adv PP    \n",
    "  PP -> P NP | PP NP PP | P\n",
    "  Det -> 'A'\n",
    "  N -> 'villager' | 'city' | 'property' | 'wife.'\n",
    "  Adv  -> 'along' \n",
    "  V ->  'went' | 'sell' \n",
    "  P -> 'his' | 'with' | 'to' \n",
    "  \"\"\")"
   ]
  },
  {
   "cell_type": "code",
   "execution_count": 8,
   "metadata": {
    "collapsed": false
   },
   "outputs": [
    {
     "name": "stdout",
     "output_type": "stream",
     "text": [
      "(S\n",
      "  (NP (Det A) (N villager) (VP (V went) (PP (P to) (NP (N city)))))\n",
      "  (VP\n",
      "    (P to)\n",
      "    (VP\n",
      "      (VP (V sell) (PP (P his) (NP (N property))) (Adv along))\n",
      "      (PP (P with)))\n",
      "    (PP (P his) (NP (N wife.)))))\n",
      "(S\n",
      "  (NP\n",
      "    (Det A)\n",
      "    (N villager)\n",
      "    (VP (VP (V went) (PP (P to) (NP (N city)))) (PP (P to))))\n",
      "  (VP\n",
      "    (VP\n",
      "      (VP (V sell) (PP (P his) (NP (N property))) (Adv along))\n",
      "      (PP (P with)))\n",
      "    (PP (P his) (NP (N wife.)))))\n",
      "(S\n",
      "  (NP\n",
      "    (Det A)\n",
      "    (N villager)\n",
      "    (VP (V went) (PP (PP (P to)) (NP (N city)) (PP (P to)))))\n",
      "  (VP\n",
      "    (VP\n",
      "      (VP (V sell) (PP (P his) (NP (N property))) (Adv along))\n",
      "      (PP (P with)))\n",
      "    (PP (P his) (NP (N wife.)))))\n",
      "(S\n",
      "  (NP (Det A) (N villager) (VP (V went) (PP (P to) (NP (N city)))))\n",
      "  (VP\n",
      "    (VP\n",
      "      (P to)\n",
      "      (VP (V sell) (PP (P his) (NP (N property))) (Adv along))\n",
      "      (PP (P with)))\n",
      "    (PP (P his) (NP (N wife.)))))\n"
     ]
    }
   ],
   "source": [
    "#Parsing algorithm\n",
    "\n",
    "#parser = nltk.parse.BottomUpLeftCornerChartParser(grammar)\n",
    "#parser = nltk.parse.BottomUpChartParser(grammar)\n",
    "parser = nltk.parse.LeftCornerChartParser(grammar)\n",
    "\n",
    "trees = []\n",
    "for tree in parser.parse(tokens):\n",
    "    print(tree)\n",
    "    trees.append(tree)\n",
    "\n"
   ]
  },
  {
   "cell_type": "code",
   "execution_count": 9,
   "metadata": {
    "collapsed": false
   },
   "outputs": [
    {
     "name": "stdout",
     "output_type": "stream",
     "text": [
      "4\n"
     ]
    }
   ],
   "source": [
    "from nltk.draw.tree import draw_trees\n",
    "x  = len(trees)\n",
    "print(x)\n",
    "draw_trees(trees[0], trees[1],trees[2], trees[3] )"
   ]
  },
  {
   "cell_type": "code",
   "execution_count": null,
   "metadata": {
    "collapsed": true
   },
   "outputs": [],
   "source": []
  }
 ],
 "metadata": {
  "anaconda-cloud": {},
  "kernelspec": {
   "display_name": "Python [default]",
   "language": "python",
   "name": "python3"
  },
  "language_info": {
   "codemirror_mode": {
    "name": "ipython",
    "version": 3
   },
   "file_extension": ".py",
   "mimetype": "text/x-python",
   "name": "python",
   "nbconvert_exporter": "python",
   "pygments_lexer": "ipython3",
   "version": "3.5.2"
  }
 },
 "nbformat": 4,
 "nbformat_minor": 1
}
